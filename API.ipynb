{
 "cells": [
  {
   "cell_type": "code",
   "execution_count": 1,
   "metadata": {},
   "outputs": [],
   "source": [
    "import requests"
   ]
  },
  {
   "cell_type": "code",
   "execution_count": 7,
   "metadata": {},
   "outputs": [],
   "source": [
    "token = \"EAAPlujGzWoQBAE7L7AF1GxPhiRf7RcQZC6QMghUC1ezZAZAJcBxXH0O7oB6eQPB9JZC6ZAy6P3xh9kSWejfovQ6zODeZCKIKSuqGM9nbqdC4LNmgMiH3kMN8mnpsX81GFrvglpohsqlneEBphX7HePGHZBxdN1MucirYRxZAJyNXjhYRZBgz0LWs0yKWrpaCpum9JIrNn2gf72gZDZD\""
   ]
  },
  {
   "cell_type": "code",
   "execution_count": 8,
   "metadata": {},
   "outputs": [],
   "source": [
    "fields = \"id,name,posts\""
   ]
  },
  {
   "cell_type": "code",
   "execution_count": 9,
   "metadata": {},
   "outputs": [],
   "source": [
    "url = \"https://graph.facebook.com/v5.0/me?fields=\"+fields+\"&access_token=\"+token"
   ]
  },
  {
   "cell_type": "code",
   "execution_count": 10,
   "metadata": {},
   "outputs": [],
   "source": [
    "data = requests.get(url)"
   ]
  },
  {
   "cell_type": "code",
   "execution_count": 11,
   "metadata": {},
   "outputs": [
    {
     "data": {
      "text/plain": [
       "400"
      ]
     },
     "execution_count": 11,
     "metadata": {},
     "output_type": "execute_result"
    }
   ],
   "source": [
    "data.status_code"
   ]
  },
  {
   "cell_type": "code",
   "execution_count": 12,
   "metadata": {},
   "outputs": [
    {
     "name": "stdout",
     "output_type": "stream",
     "text": [
      "<Response [400]>\n"
     ]
    }
   ],
   "source": [
    "print(data)"
   ]
  },
  {
   "cell_type": "code",
   "execution_count": 14,
   "metadata": {},
   "outputs": [
    {
     "data": {
      "text/plain": [
       "'{\"id\":\"2761818107264953\",\"name\":\"Simran Grover\",\"posts\":{\"data\":[{\"created_time\":\"2019-10-13T02:32:53+0000\",\"id\":\"2761818107264953_2536022416511191\"},{\"created_time\":\"2019-09-20T06:27:15+0000\",\"id\":\"2761818107264953_2485729834873783\"},{\"message\":\"Hey babe \\\\u2665\\\\ufe0f Muskan Batra birthday soon\\\\ud83e\\\\udd29\",\"created_time\":\"2019-08-19T17:06:58+0000\",\"id\":\"2761818107264953_2428307400616027\"},{\"created_time\":\"2019-08-18T19:33:54+0000\",\"id\":\"2761818107264953_2426749554105145\"},{\"created_time\":\"2019-07-28T02:57:25+0000\",\"id\":\"2761818107264953_2390061257773975\"},{\"created_time\":\"2019-07-15T05:36:27+0000\",\"id\":\"2761818107264953_2367914416655326\"},{\"message\":\"Now only this picture is left Sonam Grover\\\\ud83e\\\\udd23\",\"created_time\":\"2019-05-28T15:40:57+0000\",\"id\":\"2761818107264953_2285031841610251\"},{\"created_time\":\"2019-05-26T10:14:05+0000\",\"id\":\"2761818107264953_2281341411979294\"},{\"created_time\":\"2019-05-25T09:55:35+0000\",\"id\":\"2761818107264953_2279649135481855\"},{\"created_time\":\"2019-05-03T13:56:42+0000\",\"id\":\"2761818107264953_2244574925655943\"},{\"created_time\":\"2019-04-23T18:22:52+0000\",\"id\":\"2761818107264953_2229682317145204\"},{\"created_time\":\"2019-03-31T08:02:22+0000\",\"id\":\"2761818107264953_2194347604012009\"},{\"created_time\":\"2019-03-07T18:42:12+0000\",\"id\":\"2761818107264953_2161371100642993\"},{\"created_time\":\"2019-02-21T17:12:29+0000\",\"id\":\"2761818107264953_2140903952689708\"},{\"created_time\":\"2019-02-12T14:58:08+0000\",\"id\":\"2761818107264953_2126090164171087\"},{\"created_time\":\"2019-01-30T13:35:44+0000\",\"id\":\"2761818107264953_2106467709466666\"},{\"message\":\"Nobody really has its \\\\\"all\\\\\"  whatever you do have thats the \\\\\"all\\\\\" you need\",\"created_time\":\"2019-01-11T15:17:11+0000\",\"id\":\"2761818107264953_2077900658990038\"},{\"created_time\":\"2018-12-26T18:40:22+0000\",\"id\":\"2761818107264953_2052595431520561\"},{\"message\":\"#Diwali2k18\",\"created_time\":\"2018-11-08T08:48:56+0000\",\"id\":\"2761818107264953_1978965222216916\"},{\"created_time\":\"2018-10-07T20:23:24+0000\",\"id\":\"2761818107264953_1927601244019981\"},{\"created_time\":\"2018-06-24T07:46:23+0000\",\"id\":\"2761818107264953_1762328083880632\"},{\"message\":\"We don\\'t laugh bcz we are happy. We are happy bcz we laugh.\\\\n     - William James\",\"created_time\":\"2018-04-11T17:08:10+0000\",\"id\":\"2761818107264953_1677852308994877\"},{\"created_time\":\"2018-03-23T16:14:17+0000\",\"id\":\"2761818107264953_1655603364553105\"},{\"message\":\"The words that enlighten the soul are more precious than jewels.\\\\n-Hazrat Inayat Khan\",\"created_time\":\"2018-01-23T11:50:36+0000\",\"id\":\"2761818107264953_1586111301502312\"}],\"paging\":{\"previous\":\"https:\\\\/\\\\/graph.facebook.com\\\\/v5.0\\\\/2761818107264953\\\\/posts?since=1570933973&access_token=EAAPlujGzWoQBAE7L7AF1GxPhiRf7RcQZC6QMghUC1ezZAZAJcBxXH0O7oB6eQPB9JZC6ZAy6P3xh9kSWejfovQ6zODeZCKIKSuqGM9nbqdC4LNmgMiH3kMN8mnpsX81GFrvglpohsqlneEBphX7HePGHZBxdN1MucirYRxZAJyNXjhYRZBgz0LWs0yKWrpaCpum9JIrNn2gf72gZDZD&limit=25&__paging_token=enc_AdCa2PTwRAHRzUVbflFQezpjT4EDnj0AmJzb38jCvGqq7U7DOwrjwEHIQOlDj9CfM6jl5g1p6wGwQkcnNTjLTtMzAASenrdHfgpiOV33tvKp5AZDZD&__previous=1\",\"next\":\"https:\\\\/\\\\/graph.facebook.com\\\\/v5.0\\\\/2761818107264953\\\\/posts?access_token=EAAPlujGzWoQBAE7L7AF1GxPhiRf7RcQZC6QMghUC1ezZAZAJcBxXH0O7oB6eQPB9JZC6ZAy6P3xh9kSWejfovQ6zODeZCKIKSuqGM9nbqdC4LNmgMiH3kMN8mnpsX81GFrvglpohsqlneEBphX7HePGHZBxdN1MucirYRxZAJyNXjhYRZBgz0LWs0yKWrpaCpum9JIrNn2gf72gZDZD&limit=25&until=1516708236&__paging_token=enc_AdDQBSiCGZCHURjV1ffIPmp55jrRrXklk2dh6jTxN5zCa7Vigqpvf49FcZBZApZBTMiiZBextygUPQyDKto9Vvianjo2qbZBxRCRTLJOFKYgOuJimfIQZDZD\"}}}'"
      ]
     },
     "execution_count": 14,
     "metadata": {},
     "output_type": "execute_result"
    }
   ],
   "source": [
    "data.text"
   ]
  },
  {
   "cell_type": "code",
   "execution_count": 15,
   "metadata": {},
   "outputs": [
    {
     "data": {
      "text/plain": [
       "requests.models.Response"
      ]
     },
     "execution_count": 15,
     "metadata": {},
     "output_type": "execute_result"
    }
   ],
   "source": [
    "type(data)"
   ]
  },
  {
   "cell_type": "code",
   "execution_count": 16,
   "metadata": {},
   "outputs": [
    {
     "ename": "TypeError",
     "evalue": "'Response' object is not subscriptable",
     "output_type": "error",
     "traceback": [
      "\u001b[1;31m---------------------------------------------------------------------\u001b[0m",
      "\u001b[1;31mTypeError\u001b[0m                           Traceback (most recent call last)",
      "\u001b[1;32m<ipython-input-16-de65147f67f6>\u001b[0m in \u001b[0;36m<module>\u001b[1;34m\u001b[0m\n\u001b[1;32m----> 1\u001b[1;33m \u001b[0mdata\u001b[0m\u001b[1;33m[\u001b[0m\u001b[1;34m'name'\u001b[0m\u001b[1;33m]\u001b[0m\u001b[1;33m\u001b[0m\u001b[1;33m\u001b[0m\u001b[0m\n\u001b[0m",
      "\u001b[1;31mTypeError\u001b[0m: 'Response' object is not subscriptable"
     ]
    }
   ],
   "source": [
    "data['name']"
   ]
  },
  {
   "cell_type": "code",
   "execution_count": 17,
   "metadata": {},
   "outputs": [],
   "source": [
    "import json"
   ]
  },
  {
   "cell_type": "code",
   "execution_count": 18,
   "metadata": {},
   "outputs": [],
   "source": [
    "data = data.json()"
   ]
  },
  {
   "cell_type": "code",
   "execution_count": 20,
   "metadata": {},
   "outputs": [
    {
     "name": "stdout",
     "output_type": "stream",
     "text": [
      "{'id': '2761818107264953', 'name': 'Simran Grover', 'posts': {'data': [{'created_time': '2019-10-13T02:32:53+0000', 'id': '2761818107264953_2536022416511191'}, {'created_time': '2019-09-20T06:27:15+0000', 'id': '2761818107264953_2485729834873783'}, {'message': 'Hey babe ♥️ Muskan Batra birthday soon🤩', 'created_time': '2019-08-19T17:06:58+0000', 'id': '2761818107264953_2428307400616027'}, {'created_time': '2019-08-18T19:33:54+0000', 'id': '2761818107264953_2426749554105145'}, {'created_time': '2019-07-28T02:57:25+0000', 'id': '2761818107264953_2390061257773975'}, {'created_time': '2019-07-15T05:36:27+0000', 'id': '2761818107264953_2367914416655326'}, {'message': 'Now only this picture is left Sonam Grover🤣', 'created_time': '2019-05-28T15:40:57+0000', 'id': '2761818107264953_2285031841610251'}, {'created_time': '2019-05-26T10:14:05+0000', 'id': '2761818107264953_2281341411979294'}, {'created_time': '2019-05-25T09:55:35+0000', 'id': '2761818107264953_2279649135481855'}, {'created_time': '2019-05-03T13:56:42+0000', 'id': '2761818107264953_2244574925655943'}, {'created_time': '2019-04-23T18:22:52+0000', 'id': '2761818107264953_2229682317145204'}, {'created_time': '2019-03-31T08:02:22+0000', 'id': '2761818107264953_2194347604012009'}, {'created_time': '2019-03-07T18:42:12+0000', 'id': '2761818107264953_2161371100642993'}, {'created_time': '2019-02-21T17:12:29+0000', 'id': '2761818107264953_2140903952689708'}, {'created_time': '2019-02-12T14:58:08+0000', 'id': '2761818107264953_2126090164171087'}, {'created_time': '2019-01-30T13:35:44+0000', 'id': '2761818107264953_2106467709466666'}, {'message': 'Nobody really has its \"all\"  whatever you do have thats the \"all\" you need', 'created_time': '2019-01-11T15:17:11+0000', 'id': '2761818107264953_2077900658990038'}, {'created_time': '2018-12-26T18:40:22+0000', 'id': '2761818107264953_2052595431520561'}, {'message': '#Diwali2k18', 'created_time': '2018-11-08T08:48:56+0000', 'id': '2761818107264953_1978965222216916'}, {'created_time': '2018-10-07T20:23:24+0000', 'id': '2761818107264953_1927601244019981'}, {'created_time': '2018-06-24T07:46:23+0000', 'id': '2761818107264953_1762328083880632'}, {'message': \"We don't laugh bcz we are happy. We are happy bcz we laugh.\\n     - William James\", 'created_time': '2018-04-11T17:08:10+0000', 'id': '2761818107264953_1677852308994877'}, {'created_time': '2018-03-23T16:14:17+0000', 'id': '2761818107264953_1655603364553105'}, {'message': 'The words that enlighten the soul are more precious than jewels.\\n-Hazrat Inayat Khan', 'created_time': '2018-01-23T11:50:36+0000', 'id': '2761818107264953_1586111301502312'}], 'paging': {'previous': 'https://graph.facebook.com/v5.0/2761818107264953/posts?since=1570933973&access_token=EAAPlujGzWoQBAE7L7AF1GxPhiRf7RcQZC6QMghUC1ezZAZAJcBxXH0O7oB6eQPB9JZC6ZAy6P3xh9kSWejfovQ6zODeZCKIKSuqGM9nbqdC4LNmgMiH3kMN8mnpsX81GFrvglpohsqlneEBphX7HePGHZBxdN1MucirYRxZAJyNXjhYRZBgz0LWs0yKWrpaCpum9JIrNn2gf72gZDZD&limit=25&__paging_token=enc_AdCa2PTwRAHRzUVbflFQezpjT4EDnj0AmJzb38jCvGqq7U7DOwrjwEHIQOlDj9CfM6jl5g1p6wGwQkcnNTjLTtMzAASenrdHfgpiOV33tvKp5AZDZD&__previous=1', 'next': 'https://graph.facebook.com/v5.0/2761818107264953/posts?access_token=EAAPlujGzWoQBAE7L7AF1GxPhiRf7RcQZC6QMghUC1ezZAZAJcBxXH0O7oB6eQPB9JZC6ZAy6P3xh9kSWejfovQ6zODeZCKIKSuqGM9nbqdC4LNmgMiH3kMN8mnpsX81GFrvglpohsqlneEBphX7HePGHZBxdN1MucirYRxZAJyNXjhYRZBgz0LWs0yKWrpaCpum9JIrNn2gf72gZDZD&limit=25&until=1516708236&__paging_token=enc_AdDQBSiCGZCHURjV1ffIPmp55jrRrXklk2dh6jTxN5zCa7Vigqpvf49FcZBZApZBTMiiZBextygUPQyDKto9Vvianjo2qbZBxRCRTLJOFKYgOuJimfIQZDZD'}}}\n"
     ]
    }
   ],
   "source": [
    "print(data)"
   ]
  },
  {
   "cell_type": "code",
   "execution_count": 21,
   "metadata": {},
   "outputs": [
    {
     "data": {
      "text/plain": [
       "3"
      ]
     },
     "execution_count": 21,
     "metadata": {},
     "output_type": "execute_result"
    }
   ],
   "source": [
    "len(data)"
   ]
  },
  {
   "cell_type": "code",
   "execution_count": 22,
   "metadata": {},
   "outputs": [
    {
     "data": {
      "text/plain": [
       "'2761818107264953'"
      ]
     },
     "execution_count": 22,
     "metadata": {},
     "output_type": "execute_result"
    }
   ],
   "source": [
    "data['id']"
   ]
  },
  {
   "cell_type": "code",
   "execution_count": 23,
   "metadata": {},
   "outputs": [
    {
     "data": {
      "text/plain": [
       "'Simran Grover'"
      ]
     },
     "execution_count": 23,
     "metadata": {},
     "output_type": "execute_result"
    }
   ],
   "source": [
    "data['name']"
   ]
  },
  {
   "cell_type": "code",
   "execution_count": 24,
   "metadata": {},
   "outputs": [
    {
     "data": {
      "text/plain": [
       "{'data': [{'created_time': '2019-10-13T02:32:53+0000',\n",
       "   'id': '2761818107264953_2536022416511191'},\n",
       "  {'created_time': '2019-09-20T06:27:15+0000',\n",
       "   'id': '2761818107264953_2485729834873783'},\n",
       "  {'message': 'Hey babe ♥️ Muskan Batra birthday soon🤩',\n",
       "   'created_time': '2019-08-19T17:06:58+0000',\n",
       "   'id': '2761818107264953_2428307400616027'},\n",
       "  {'created_time': '2019-08-18T19:33:54+0000',\n",
       "   'id': '2761818107264953_2426749554105145'},\n",
       "  {'created_time': '2019-07-28T02:57:25+0000',\n",
       "   'id': '2761818107264953_2390061257773975'},\n",
       "  {'created_time': '2019-07-15T05:36:27+0000',\n",
       "   'id': '2761818107264953_2367914416655326'},\n",
       "  {'message': 'Now only this picture is left Sonam Grover🤣',\n",
       "   'created_time': '2019-05-28T15:40:57+0000',\n",
       "   'id': '2761818107264953_2285031841610251'},\n",
       "  {'created_time': '2019-05-26T10:14:05+0000',\n",
       "   'id': '2761818107264953_2281341411979294'},\n",
       "  {'created_time': '2019-05-25T09:55:35+0000',\n",
       "   'id': '2761818107264953_2279649135481855'},\n",
       "  {'created_time': '2019-05-03T13:56:42+0000',\n",
       "   'id': '2761818107264953_2244574925655943'},\n",
       "  {'created_time': '2019-04-23T18:22:52+0000',\n",
       "   'id': '2761818107264953_2229682317145204'},\n",
       "  {'created_time': '2019-03-31T08:02:22+0000',\n",
       "   'id': '2761818107264953_2194347604012009'},\n",
       "  {'created_time': '2019-03-07T18:42:12+0000',\n",
       "   'id': '2761818107264953_2161371100642993'},\n",
       "  {'created_time': '2019-02-21T17:12:29+0000',\n",
       "   'id': '2761818107264953_2140903952689708'},\n",
       "  {'created_time': '2019-02-12T14:58:08+0000',\n",
       "   'id': '2761818107264953_2126090164171087'},\n",
       "  {'created_time': '2019-01-30T13:35:44+0000',\n",
       "   'id': '2761818107264953_2106467709466666'},\n",
       "  {'message': 'Nobody really has its \"all\"  whatever you do have thats the \"all\" you need',\n",
       "   'created_time': '2019-01-11T15:17:11+0000',\n",
       "   'id': '2761818107264953_2077900658990038'},\n",
       "  {'created_time': '2018-12-26T18:40:22+0000',\n",
       "   'id': '2761818107264953_2052595431520561'},\n",
       "  {'message': '#Diwali2k18',\n",
       "   'created_time': '2018-11-08T08:48:56+0000',\n",
       "   'id': '2761818107264953_1978965222216916'},\n",
       "  {'created_time': '2018-10-07T20:23:24+0000',\n",
       "   'id': '2761818107264953_1927601244019981'},\n",
       "  {'created_time': '2018-06-24T07:46:23+0000',\n",
       "   'id': '2761818107264953_1762328083880632'},\n",
       "  {'message': \"We don't laugh bcz we are happy. We are happy bcz we laugh.\\n     - William James\",\n",
       "   'created_time': '2018-04-11T17:08:10+0000',\n",
       "   'id': '2761818107264953_1677852308994877'},\n",
       "  {'created_time': '2018-03-23T16:14:17+0000',\n",
       "   'id': '2761818107264953_1655603364553105'},\n",
       "  {'message': 'The words that enlighten the soul are more precious than jewels.\\n-Hazrat Inayat Khan',\n",
       "   'created_time': '2018-01-23T11:50:36+0000',\n",
       "   'id': '2761818107264953_1586111301502312'}],\n",
       " 'paging': {'previous': 'https://graph.facebook.com/v5.0/2761818107264953/posts?since=1570933973&access_token=EAAPlujGzWoQBAE7L7AF1GxPhiRf7RcQZC6QMghUC1ezZAZAJcBxXH0O7oB6eQPB9JZC6ZAy6P3xh9kSWejfovQ6zODeZCKIKSuqGM9nbqdC4LNmgMiH3kMN8mnpsX81GFrvglpohsqlneEBphX7HePGHZBxdN1MucirYRxZAJyNXjhYRZBgz0LWs0yKWrpaCpum9JIrNn2gf72gZDZD&limit=25&__paging_token=enc_AdCa2PTwRAHRzUVbflFQezpjT4EDnj0AmJzb38jCvGqq7U7DOwrjwEHIQOlDj9CfM6jl5g1p6wGwQkcnNTjLTtMzAASenrdHfgpiOV33tvKp5AZDZD&__previous=1',\n",
       "  'next': 'https://graph.facebook.com/v5.0/2761818107264953/posts?access_token=EAAPlujGzWoQBAE7L7AF1GxPhiRf7RcQZC6QMghUC1ezZAZAJcBxXH0O7oB6eQPB9JZC6ZAy6P3xh9kSWejfovQ6zODeZCKIKSuqGM9nbqdC4LNmgMiH3kMN8mnpsX81GFrvglpohsqlneEBphX7HePGHZBxdN1MucirYRxZAJyNXjhYRZBgz0LWs0yKWrpaCpum9JIrNn2gf72gZDZD&limit=25&until=1516708236&__paging_token=enc_AdDQBSiCGZCHURjV1ffIPmp55jrRrXklk2dh6jTxN5zCa7Vigqpvf49FcZBZApZBTMiiZBextygUPQyDKto9Vvianjo2qbZBxRCRTLJOFKYgOuJimfIQZDZD'}}"
      ]
     },
     "execution_count": 24,
     "metadata": {},
     "output_type": "execute_result"
    }
   ],
   "source": [
    "data['posts']"
   ]
  },
  {
   "cell_type": "code",
   "execution_count": 37,
   "metadata": {},
   "outputs": [],
   "source": [
    "#token = \"0f2ea56c0185404cf3b83580eaff022e\"\n",
    "token = \"4d9de1f21d7daf67973b53bbaf288521\""
   ]
  },
  {
   "cell_type": "code",
   "execution_count": 38,
   "metadata": {},
   "outputs": [
    {
     "name": "stdout",
     "output_type": "stream",
     "text": [
      "Enter your city : jaipur\n"
     ]
    }
   ],
   "source": [
    "city = input(\"Enter your city : \")"
   ]
  },
  {
   "cell_type": "code",
   "execution_count": 39,
   "metadata": {},
   "outputs": [],
   "source": [
    "url = \"http://api.openweathermap.org/data/2.5/weather?q={}&appid={}\".format(city,token)"
   ]
  },
  {
   "cell_type": "code",
   "execution_count": 40,
   "metadata": {},
   "outputs": [],
   "source": [
    "import requests"
   ]
  },
  {
   "cell_type": "code",
   "execution_count": 41,
   "metadata": {},
   "outputs": [],
   "source": [
    "data = requests.get(url)"
   ]
  },
  {
   "cell_type": "code",
   "execution_count": 42,
   "metadata": {},
   "outputs": [
    {
     "data": {
      "text/plain": [
       "200"
      ]
     },
     "execution_count": 42,
     "metadata": {},
     "output_type": "execute_result"
    }
   ],
   "source": [
    "data.status_code"
   ]
  },
  {
   "cell_type": "code",
   "execution_count": 44,
   "metadata": {},
   "outputs": [
    {
     "data": {
      "text/plain": [
       "{'Server': 'openresty', 'Date': 'Tue, 04 Feb 2020 11:40:02 GMT', 'Content-Type': 'application/json; charset=utf-8', 'Content-Length': '457', 'Connection': 'keep-alive', 'X-Cache-Key': '/data/2.5/weather?q=jaipur', 'Access-Control-Allow-Origin': '*', 'Access-Control-Allow-Credentials': 'true', 'Access-Control-Allow-Methods': 'GET, POST'}"
      ]
     },
     "execution_count": 44,
     "metadata": {},
     "output_type": "execute_result"
    }
   ],
   "source": [
    "data.headers"
   ]
  },
  {
   "cell_type": "code",
   "execution_count": 45,
   "metadata": {},
   "outputs": [
    {
     "data": {
      "text/plain": [
       "'{\"coord\":{\"lon\":75.82,\"lat\":26.92},\"weather\":[{\"id\":721,\"main\":\"Haze\",\"description\":\"haze\",\"icon\":\"50d\"}],\"base\":\"stations\",\"main\":{\"temp\":295.15,\"feels_like\":293.15,\"temp_min\":295.15,\"temp_max\":295.15,\"pressure\":1014,\"humidity\":35},\"visibility\":4000,\"wind\":{\"speed\":1.5,\"deg\":130},\"clouds\":{\"all\":40},\"dt\":1580816208,\"sys\":{\"type\":1,\"id\":9170,\"country\":\"IN\",\"sunrise\":1580780466,\"sunset\":1580819999},\"timezone\":19800,\"id\":1269515,\"name\":\"Jaipur\",\"cod\":200}'"
      ]
     },
     "execution_count": 45,
     "metadata": {},
     "output_type": "execute_result"
    }
   ],
   "source": [
    "data.text"
   ]
  },
  {
   "cell_type": "code",
   "execution_count": 46,
   "metadata": {},
   "outputs": [],
   "source": [
    "import json"
   ]
  },
  {
   "cell_type": "code",
   "execution_count": 53,
   "metadata": {},
   "outputs": [
    {
     "name": "stdout",
     "output_type": "stream",
     "text": [
      "Enter your city : berlin\n",
      "\n",
      "Discription :  broken clouds\n",
      "\n",
      "Temperature :  279.39\n",
      "\n",
      "Humidity :  75\n",
      "\n",
      "Country :  DE\n"
     ]
    }
   ],
   "source": [
    "city = input(\"Enter your city : \")\n",
    "url = \"http://api.openweathermap.org/data/2.5/weather?q={}&appid={}\".format(city,token)\n",
    "data = requests.get(url)\n",
    "data = data.json()\n",
    "#print(data)\n",
    "#discription\n",
    "#temperature\n",
    "#humidity\n",
    "#country\n",
    "print(\"\\nDiscription : \",data['weather'][0]['description'])\n",
    "print(\"\\nTemperature : \",data['main']['temp'])\n",
    "print(\"\\nHumidity : \",data['main']['humidity'])\n",
    "print(\"\\nCountry : \",data['sys']['country'])"
   ]
  },
  {
   "cell_type": "code",
   "execution_count": 49,
   "metadata": {},
   "outputs": [
    {
     "ename": "KeyError",
     "evalue": "'description'",
     "output_type": "error",
     "traceback": [
      "\u001b[1;31m---------------------------------------------------------------------\u001b[0m",
      "\u001b[1;31mKeyError\u001b[0m                            Traceback (most recent call last)",
      "\u001b[1;32m<ipython-input-49-b9a142e990e4>\u001b[0m in \u001b[0;36m<module>\u001b[1;34m\u001b[0m\n\u001b[1;32m----> 1\u001b[1;33m \u001b[0mdata\u001b[0m\u001b[1;33m[\u001b[0m\u001b[1;34m'description'\u001b[0m\u001b[1;33m]\u001b[0m\u001b[1;33m\u001b[0m\u001b[1;33m\u001b[0m\u001b[0m\n\u001b[0m",
      "\u001b[1;31mKeyError\u001b[0m: 'description'"
     ]
    }
   ],
   "source": [
    "data['description']"
   ]
  },
  {
   "cell_type": "code",
   "execution_count": null,
   "metadata": {},
   "outputs": [],
   "source": []
  }
 ],
 "metadata": {
  "kernelspec": {
   "display_name": "Python 3",
   "language": "python",
   "name": "python3"
  },
  "language_info": {
   "codemirror_mode": {
    "name": "ipython",
    "version": 3
   },
   "file_extension": ".py",
   "mimetype": "text/x-python",
   "name": "python",
   "nbconvert_exporter": "python",
   "pygments_lexer": "ipython3",
   "version": "3.7.4"
  }
 },
 "nbformat": 4,
 "nbformat_minor": 2
}
